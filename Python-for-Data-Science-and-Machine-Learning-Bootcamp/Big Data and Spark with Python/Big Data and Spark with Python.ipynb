{
  "nbformat": 4,
  "nbformat_minor": 0,
  "metadata": {
    "colab": {
      "provenance": []
    },
    "kernelspec": {
      "name": "python3",
      "display_name": "Python 3"
    },
    "language_info": {
      "name": "python"
    }
  },
  "cells": [
    {
      "cell_type": "code",
      "metadata": {
        "id": "7f8b59c0"
      },
      "source": [
        "# Import the SparkContext class from the pyspark library.\n",
        "# This is the entry point for Spark functionality.\n",
        "from pyspark import SparkContext"
      ],
      "execution_count": 1,
      "outputs": []
    },
    {
      "cell_type": "markdown",
      "metadata": {
        "id": "8c2e6e65"
      },
      "source": [
        "Initializing a SparkContext\n"
      ]
    },
    {
      "cell_type": "code",
      "metadata": {
        "id": "5c70ab9d"
      },
      "source": [
        "# Import the SparkContext class again (already imported in the previous cell).\n",
        "# This is the entry point for Spark functionality.\n",
        "from pyspark import SparkContext\n",
        "\n",
        "# Get or create a SparkContext.\n",
        "# getOrCreate() allows us to reuse an existing context if available, or create a new one.\n",
        "sc = SparkContext.getOrCreate()"
      ],
      "execution_count": 2,
      "outputs": []
    },
    {
      "cell_type": "markdown",
      "metadata": {
        "id": "9a21be13"
      },
      "source": [
        "Simple lambda expression ex for squaring a number.\n",
        "\n"
      ]
    },
    {
      "cell_type": "code",
      "metadata": {
        "colab": {
          "base_uri": "https://localhost:8080/"
        },
        "id": "ed2f1cdc",
        "outputId": "b1d25563-11fe-4f5c-9f80-fc3761392118"
      },
      "source": [
        "# Define a lambda function called 'square' that takes one argument 'x'.\n",
        "# It returns the square of 'x'.\n",
        "square = lambda x: x**2\n",
        "# Print the result of calling the 'square' lambda function with the argument 5.\n",
        "print(square(5))"
      ],
      "execution_count": 3,
      "outputs": [
        {
          "output_type": "stream",
          "name": "stdout",
          "text": [
            "25\n"
          ]
        }
      ]
    },
    {
      "cell_type": "markdown",
      "metadata": {
        "id": "b6fd512f"
      },
      "source": [
        "Simple lambda expression ex for adding two numbers.\n",
        "\n"
      ]
    },
    {
      "cell_type": "code",
      "metadata": {
        "colab": {
          "base_uri": "https://localhost:8080/"
        },
        "id": "33610005",
        "outputId": "be26a0d8-5a23-49ab-8bfd-c669e26483ec"
      },
      "source": [
        "# Define a lambda function called 'add' that takes two arguments 'x' and 'y'.\n",
        "# It returns the sum of 'x' and 'y'.\n",
        "add = lambda x,y: x+y\n",
        "# Print the result of calling the 'add' lambda function with arguments 5 and 10.\n",
        "print(add(5,10))"
      ],
      "execution_count": 4,
      "outputs": [
        {
          "output_type": "stream",
          "name": "stdout",
          "text": [
            "15\n"
          ]
        }
      ]
    },
    {
      "cell_type": "code",
      "metadata": {
        "colab": {
          "base_uri": "https://localhost:8080/"
        },
        "id": "92932094",
        "outputId": "b7a4705b-c520-493d-8f86-888f737f10e1"
      },
      "source": [
        "# Use the %%writefile magic command to create a text file named 'example.txt'.\n",
        "# This file will be used as input data for Spark RDD operations.\n",
        "%%writefile example.txt\n",
        "first line\n",
        "second line\n",
        "third line\n",
        "fourth line"
      ],
      "execution_count": 5,
      "outputs": [
        {
          "output_type": "stream",
          "name": "stdout",
          "text": [
            "Overwriting example.txt\n"
          ]
        }
      ]
    },
    {
      "cell_type": "markdown",
      "metadata": {
        "id": "7861cabf"
      },
      "source": [
        "Loads the example text file into a Spark RDD.\n",
        "\n"
      ]
    },
    {
      "cell_type": "code",
      "metadata": {
        "id": "0657e50f"
      },
      "source": [
        "# Load the 'example.txt' file into a Resilient Distributed Dataset (RDD) named 'textFile'.\n",
        "# textFile() is a SparkContext method for reading text files into an RDD, where each line is an element.\n",
        "textFile = sc.textFile('example.txt')"
      ],
      "execution_count": 6,
      "outputs": []
    },
    {
      "cell_type": "markdown",
      "metadata": {
        "id": "26e5c582"
      },
      "source": [
        "performs the count action on the RDD.\n",
        "\n"
      ]
    },
    {
      "cell_type": "code",
      "metadata": {
        "colab": {
          "base_uri": "https://localhost:8080/"
        },
        "id": "a5d4d046",
        "outputId": "d5267f88-52a6-4d4c-dc27-ad3479f22798"
      },
      "source": [
        "# Perform the 'count' action on the 'textFile' RDD.\n",
        "# The count() action returns the number of elements (lines) in the RDD.\n",
        "# This is an action, so it triggers the execution of the RDD transformations (if any) needed to compute the count.\n",
        "textFile.count()"
      ],
      "execution_count": 7,
      "outputs": [
        {
          "output_type": "execute_result",
          "data": {
            "text/plain": [
              "4"
            ]
          },
          "metadata": {},
          "execution_count": 7
        }
      ]
    },
    {
      "cell_type": "markdown",
      "metadata": {
        "id": "894eb015"
      },
      "source": [
        "Performs the first action on the RDD.\n",
        "\n"
      ]
    },
    {
      "cell_type": "code",
      "metadata": {
        "colab": {
          "base_uri": "https://localhost:8080/",
          "height": 35
        },
        "id": "6ff0beeb",
        "outputId": "17195583-f88e-4adc-fa99-9df8b08cbb7f"
      },
      "source": [
        "# Perform the 'first' action on the 'textFile' RDD.\n",
        "# The first() action returns the first element (line) of the RDD.\n",
        "# This is an action that also triggers computation.\n",
        "textFile.first()"
      ],
      "execution_count": 8,
      "outputs": [
        {
          "output_type": "execute_result",
          "data": {
            "text/plain": [
              "'first line'"
            ],
            "application/vnd.google.colaboratory.intrinsic+json": {
              "type": "string"
            }
          },
          "metadata": {},
          "execution_count": 8
        }
      ]
    },
    {
      "cell_type": "code",
      "metadata": {
        "id": "36964815"
      },
      "source": [
        "# Filter the textFile RDD to find lines that contain the word 'second'.\n",
        "# This is a transformation that creates a new RDD containing only the matched lines.\n",
        "# We are doing this to demonstrate how to select specific data based on a condition.\n",
        "secfind = textFile.filter(lambda line: 'second' in line)"
      ],
      "execution_count": 9,
      "outputs": []
    },
    {
      "cell_type": "markdown",
      "metadata": {
        "id": "6f8e4476"
      },
      "source": [
        "Displaying the RDD object itself only shows its lineage and not the data.\n",
        "\n"
      ]
    },
    {
      "cell_type": "code",
      "metadata": {
        "colab": {
          "base_uri": "https://localhost:8080/"
        },
        "id": "3a041e06",
        "outputId": "85599355-8b14-46c6-a78b-b6bb649d7638"
      },
      "source": [
        "# Displaying the RDD object itself does not show the data within it.\n",
        "# Instead, it shows the lineage of transformations that will be applied when an action is called.\n",
        "# This is because RDD transformations are lazy and are not executed until an action is triggered.\n",
        "secfind"
      ],
      "execution_count": 10,
      "outputs": [
        {
          "output_type": "execute_result",
          "data": {
            "text/plain": [
              "PythonRDD[4] at RDD at PythonRDD.scala:53"
            ]
          },
          "metadata": {},
          "execution_count": 10
        }
      ]
    },
    {
      "cell_type": "markdown",
      "metadata": {
        "id": "d9d610f6"
      },
      "source": [
        "- Explaining the `collect()` action and its purpose in bringing RDD data to the driver program.\n",
        "\n",
        "- Demonstration and loading it into an RDD.\n",
        "\n"
      ]
    },
    {
      "cell_type": "code",
      "metadata": {
        "colab": {
          "base_uri": "https://localhost:8080/"
        },
        "id": "55627afb",
        "outputId": "8316e199-e387-404a-9dfc-f0c43c2ed9a6"
      },
      "source": [
        "# Perform the 'collect()' action on the 'secfind' RDD.\n",
        "# The collect() action brings all the elements of the RDD from the distributed workers to the driver program.\n",
        "# This allows us to view the actual data contained in the RDD. Use with caution on large RDDs as it can cause out-of-memory errors.\n",
        "secfind.collect()"
      ],
      "execution_count": 11,
      "outputs": [
        {
          "output_type": "execute_result",
          "data": {
            "text/plain": [
              "['second line']"
            ]
          },
          "metadata": {},
          "execution_count": 11
        }
      ]
    },
    {
      "cell_type": "code",
      "metadata": {
        "colab": {
          "base_uri": "https://localhost:8080/"
        },
        "id": "a7f8b45e",
        "outputId": "795d20eb-a8a7-43ad-9d24-b2c29662b5e2"
      },
      "source": [
        "# Use the %%writefile magic command to create a new text file named 'example2.txt'.\n",
        "# This file contains multiple lines with varying numbers of words and will be used to demonstrate RDD transformations like map and flatMap.\n",
        "# We are creating this file to have different data for practicing more complex RDD operations.\n",
        "%%writefile example2.txt\n",
        "first\n",
        "second line\n",
        "the third line\n",
        "then a fourth line"
      ],
      "execution_count": 12,
      "outputs": [
        {
          "output_type": "stream",
          "name": "stdout",
          "text": [
            "Overwriting example2.txt\n"
          ]
        }
      ]
    },
    {
      "cell_type": "code",
      "metadata": {
        "colab": {
          "base_uri": "https://localhost:8080/"
        },
        "id": "a163559c",
        "outputId": "73153fae-9217-48de-96c9-768076e80cad"
      },
      "source": [
        "# Load the 'example2.txt' file into a Resilient Distributed Dataset (RDD).\n",
        "# Calling sc.textFile() creates an RDD object but does not immediately read the data or perform any computations (lazy evaluation).\n",
        "# The output shows the RDD object's name and lineage, indicating it's ready for transformations or actions.\n",
        "sc.textFile('example2.txt')"
      ],
      "execution_count": 13,
      "outputs": [
        {
          "output_type": "execute_result",
          "data": {
            "text/plain": [
              "example2.txt MapPartitionsRDD[6] at textFile at NativeMethodAccessorImpl.java:0"
            ]
          },
          "metadata": {},
          "execution_count": 13
        }
      ]
    },
    {
      "cell_type": "code",
      "metadata": {
        "id": "3c19faf1"
      },
      "source": [
        "# Assign the RDD created from 'example2.txt' to the variable 'text_rdd'.\n",
        "# This variable now holds a reference to the distributed dataset, allowing us to perform transformations and actions on it.\n",
        "text_rdd = sc.textFile('example2.txt')"
      ],
      "execution_count": 14,
      "outputs": []
    },
    {
      "cell_type": "code",
      "metadata": {
        "id": "f3a80018"
      },
      "source": [
        "# Apply a 'map' transformation to the 'text_rdd'.\n",
        "# The lambda function 'lambda line: line.split()' is applied to each element (line) in the RDD.\n",
        "# line.split() splits each line into a list of words based on whitespace.\n",
        "# This transformation results in a new RDD where each element is a list of words from the original line.\n",
        "words = text_rdd.map(lambda line: line.split())"
      ],
      "execution_count": 15,
      "outputs": []
    },
    {
      "cell_type": "code",
      "metadata": {
        "colab": {
          "base_uri": "https://localhost:8080/"
        },
        "id": "01eeac06",
        "outputId": "a1a66cf5-3f22-420d-9677-7a885f04f24c"
      },
      "source": [
        "# Perform the 'collect()' action on the 'words' RDD.\n",
        "# This action triggers the execution of the map transformation and brings the resulting lists of words to the driver program.\n",
        "# We are doing this to see the output of the map transformation, where each original line is now a list of its words.\n",
        "words.collect()"
      ],
      "execution_count": 16,
      "outputs": [
        {
          "output_type": "execute_result",
          "data": {
            "text/plain": [
              "[['first'],\n",
              " ['second', 'line'],\n",
              " ['the', 'third', 'line'],\n",
              " ['then', 'a', 'fourth', 'line']]"
            ]
          },
          "metadata": {},
          "execution_count": 16
        }
      ]
    },
    {
      "cell_type": "code",
      "metadata": {
        "colab": {
          "base_uri": "https://localhost:8080/"
        },
        "id": "baa8d9f5",
        "outputId": "bdd7170a-b018-4ad0-e1fd-37f658e07ee2"
      },
      "source": [
        "# Perform the 'collect()' action on the 'text_rdd'.\n",
        "# This action retrieves all elements from the RDD and brings them to the driver program.\n",
        "# We are doing this to display the original lines of the text file after it was loaded into an RDD.\n",
        "text_rdd.collect()"
      ],
      "execution_count": 17,
      "outputs": [
        {
          "output_type": "execute_result",
          "data": {
            "text/plain": [
              "['first', 'second line', 'the third line', 'then a fourth line']"
            ]
          },
          "metadata": {},
          "execution_count": 17
        }
      ]
    },
    {
      "cell_type": "code",
      "metadata": {
        "colab": {
          "base_uri": "https://localhost:8080/"
        },
        "id": "2add09ce",
        "outputId": "d3ae6b09-b229-44fe-e0be-c853f06b797b"
      },
      "source": [
        "# Apply the 'flatMap' transformation to the 'text_rdd'.\n",
        "# The lambda function 'lambda line: line.split()' is applied to each line.\n",
        "# flatMap is similar to map but it flattens the output, so instead of a list of lists, we get a single list of all words.\n",
        "# We are using flatMap to get a single RDD containing all individual words from all lines.\n",
        "# The collect() action is immediately called to trigger the transformation and bring the results to the driver.\n",
        "text_rdd.flatMap(lambda line: line.split()).collect()"
      ],
      "execution_count": 18,
      "outputs": [
        {
          "output_type": "execute_result",
          "data": {
            "text/plain": [
              "['first',\n",
              " 'second',\n",
              " 'line',\n",
              " 'the',\n",
              " 'third',\n",
              " 'line',\n",
              " 'then',\n",
              " 'a',\n",
              " 'fourth',\n",
              " 'line']"
            ]
          },
          "metadata": {},
          "execution_count": 18
        }
      ]
    },
    {
      "cell_type": "code",
      "metadata": {
        "colab": {
          "base_uri": "https://localhost:8080/"
        },
        "id": "f194273c",
        "outputId": "6a778098-c0ba-4947-e271-57359c8ebfd8"
      },
      "source": [
        "# Use the %%writefile magic command to create a text file named 'services.txt'.\n",
        "# This file contains structured data with a header row and multiple records, which will be used for data processing examples.\n",
        "# We are creating this file to work with more realistic, structured data in Spark.\n",
        "%%writefile services.txt\n",
        "#EventId    Timestamp    Customer   State    ServiceID    Amount\n",
        "201         10/13/2017   100        NY       131          100.00\n",
        "202         10/14/2017   101        CA       132          150.50\n",
        "203         10/15/2017   102        TX       133          200.75\n",
        "204         10/16/2017   103        CA       134          120.00\n",
        "205         10/17/2017   104        NY       135          180.25\n",
        "206         10/18/2017   105        TX       136          250.00"
      ],
      "execution_count": 19,
      "outputs": [
        {
          "output_type": "stream",
          "name": "stdout",
          "text": [
            "Overwriting services.txt\n"
          ]
        }
      ]
    },
    {
      "cell_type": "code",
      "metadata": {
        "id": "246b8afe"
      },
      "source": [
        "# Load the 'services.txt' file into a Resilient Distributed Dataset (RDD) named 'services'.\n",
        "# sc.textFile() reads the file line by line and creates an RDD where each element is a line from the file.\n",
        "# This is the first step to process the data in the 'services.txt' file using Spark.\n",
        "services = sc.textFile('services.txt')"
      ],
      "execution_count": 20,
      "outputs": []
    },
    {
      "cell_type": "code",
      "metadata": {
        "colab": {
          "base_uri": "https://localhost:8080/"
        },
        "id": "c9514e21",
        "outputId": "e31e4736-e820-4757-9e97-872bce59cab8"
      },
      "source": [
        "# Perform the 'take(2)' action on the 'services' RDD.\n",
        "# take(n) returns a list containing the first n elements of the RDD.\n",
        "# We are doing this to quickly inspect the first few lines of the 'services' RDD, including the header, to understand its structure.\n",
        "services.take(2)"
      ],
      "execution_count": 21,
      "outputs": [
        {
          "output_type": "execute_result",
          "data": {
            "text/plain": [
              "['#EventId    Timestamp    Customer   State    ServiceID    Amount',\n",
              " '201         10/13/2017   100        NY       131          100.00']"
            ]
          },
          "metadata": {},
          "execution_count": 21
        }
      ]
    },
    {
      "cell_type": "code",
      "metadata": {
        "colab": {
          "base_uri": "https://localhost:8080/"
        },
        "id": "e1ba6902",
        "outputId": "bc2aa5db-e02c-4d3a-9fb1-4b8b0b0807d1"
      },
      "source": [
        "# Apply a 'map' transformation to the 'services' RDD.\n",
        "# The lambda function 'lambda line: line.split()' is applied to each line, splitting it into a list of strings based on whitespace.\n",
        "# We are doing this to parse each line into individual fields so we can access and process the data within each record.\n",
        "# The 'take(3)' action is immediately called to trigger the transformation and display the first three resulting lists.\n",
        "services.map(lambda line: line.split()).take(3)"
      ],
      "execution_count": 22,
      "outputs": [
        {
          "output_type": "execute_result",
          "data": {
            "text/plain": [
              "[['#EventId', 'Timestamp', 'Customer', 'State', 'ServiceID', 'Amount'],\n",
              " ['201', '10/13/2017', '100', 'NY', '131', '100.00'],\n",
              " ['202', '10/14/2017', '101', 'CA', '132', '150.50']]"
            ]
          },
          "metadata": {},
          "execution_count": 22
        }
      ]
    },
    {
      "cell_type": "code",
      "metadata": {
        "colab": {
          "base_uri": "https://localhost:8080/"
        },
        "id": "70e758fa",
        "outputId": "393e62f2-6ada-42ce-8857-03bac1e38121"
      },
      "source": [
        "# Apply a 'map' transformation to the 'services' RDD to remove the '#' character from the header line.\n",
        "# The lambda function checks if a line starts with '#'. If it does, it returns the line from the second character onwards (removing '#').\n",
        "# If the line does not start with '#', the original line is returned.\n",
        "# We are doing this to clean the header row so it doesn't contain the comment character.\n",
        "# The 'collect()' action is immediately called to trigger the transformation and display all the resulting lines.\n",
        "services.map(lambda line: line [1:] if line [0]=='#' else line).collect()"
      ],
      "execution_count": 23,
      "outputs": [
        {
          "output_type": "execute_result",
          "data": {
            "text/plain": [
              "['EventId    Timestamp    Customer   State    ServiceID    Amount',\n",
              " '201         10/13/2017   100        NY       131          100.00',\n",
              " '202         10/14/2017   101        CA       132          150.50',\n",
              " '203         10/15/2017   102        TX       133          200.75',\n",
              " '204         10/16/2017   103        CA       134          120.00',\n",
              " '205         10/17/2017   104        NY       135          180.25',\n",
              " '206         10/18/2017   105        TX       136          250.00']"
            ]
          },
          "metadata": {},
          "execution_count": 23
        }
      ]
    },
    {
      "cell_type": "code",
      "metadata": {
        "id": "b1057277"
      },
      "source": [
        "# Apply a 'map' transformation to the 'services' RDD to remove the '#' character from the header line.\n",
        "# The lambda function checks if a line starts with '#'. If it does, it returns the line from the second character onwards (removing '#').\n",
        "# If the line does not start with '#', the original line is returned.\n",
        "# We are doing this to clean the header row so it doesn't contain the comment character.\n",
        "# This transformation is stored in a new RDD called 'clean'.\n",
        "clean = services.map(lambda line: line [1:] if line [0]=='#' else line)"
      ],
      "execution_count": 24,
      "outputs": []
    },
    {
      "cell_type": "code",
      "metadata": {
        "id": "3f1b7160"
      },
      "source": [
        "# Apply a 'map' transformation to the 'clean' RDD.\n",
        "# The lambda function 'lambda line: line.split()' is applied to each line, splitting it into a list of strings based on whitespace.\n",
        "# This is done to parse the data from each line into individual fields (columns) which can then be easily accessed and processed.\n",
        "clean = clean.map(lambda line: line.split())"
      ],
      "execution_count": 25,
      "outputs": []
    },
    {
      "cell_type": "code",
      "metadata": {
        "colab": {
          "base_uri": "https://localhost:8080/"
        },
        "id": "d559016d",
        "outputId": "45aa43b9-5151-4b48-d766-15dc33c728c8"
      },
      "source": [
        "# Perform the 'collect()' action on the 'clean' RDD.\n",
        "# The collect() action brings all the elements of the RDD from the distributed workers to the driver program.\n",
        "# This is done to display the result of the previous transformations (removing '#' and splitting lines) and see the cleaned and parsed data as a list of lists.\n",
        "clean.collect()"
      ],
      "execution_count": 26,
      "outputs": [
        {
          "output_type": "execute_result",
          "data": {
            "text/plain": [
              "[['EventId', 'Timestamp', 'Customer', 'State', 'ServiceID', 'Amount'],\n",
              " ['201', '10/13/2017', '100', 'NY', '131', '100.00'],\n",
              " ['202', '10/14/2017', '101', 'CA', '132', '150.50'],\n",
              " ['203', '10/15/2017', '102', 'TX', '133', '200.75'],\n",
              " ['204', '10/16/2017', '103', 'CA', '134', '120.00'],\n",
              " ['205', '10/17/2017', '104', 'NY', '135', '180.25'],\n",
              " ['206', '10/18/2017', '105', 'TX', '136', '250.00']]"
            ]
          },
          "metadata": {},
          "execution_count": 26
        }
      ]
    },
    {
      "cell_type": "code",
      "metadata": {
        "id": "bed9ac9b"
      },
      "source": [
        "# Apply a 'map' transformation to the 'clean' RDD.\n",
        "# The lambda function 'lambda lst: (lst[3], lst[-1])' is applied to each element (which is a list of strings representing a row).\n",
        "# It extracts the element at index 3 (which is the 'State') and the last element (which is the 'Amount').\n",
        "# This is done to create key-value pairs where the key is the State and the value is the Amount. This format is suitable for aggregation by state.\n",
        "pairs = clean.map(lambda lst: (lst[3], lst[-1]))"
      ],
      "execution_count": 27,
      "outputs": []
    },
    {
      "cell_type": "code",
      "metadata": {
        "colab": {
          "base_uri": "https://localhost:8080/"
        },
        "id": "676a81a7",
        "outputId": "6d506b9c-1e7d-4861-d2e1-fd3856313fdc"
      },
      "source": [
        "# Perform the 'collect()' action on the 'pairs' RDD.\n",
        "# The collect() action brings all the elements of the RDD (the key-value pairs of State and Amount) to the driver program.\n",
        "# This is done to inspect the generated pairs and verify that the map transformation correctly extracted the State and Amount for each record.\n",
        "pairs.collect()"
      ],
      "execution_count": 28,
      "outputs": [
        {
          "output_type": "execute_result",
          "data": {
            "text/plain": [
              "[('State', 'Amount'),\n",
              " ('NY', '100.00'),\n",
              " ('CA', '150.50'),\n",
              " ('TX', '200.75'),\n",
              " ('CA', '120.00'),\n",
              " ('NY', '180.25'),\n",
              " ('TX', '250.00')]"
            ]
          },
          "metadata": {},
          "execution_count": 28
        }
      ]
    },
    {
      "cell_type": "code",
      "metadata": {
        "id": "e39987b8"
      },
      "source": [
        "# Filter out the header row pair ('State', 'Amount') from the 'pairs' RDD.\n",
        "# The lambda function 'lambda pair: pair[0] != 'State'' keeps only the pairs where the key (the State) is not 'State'.\n",
        "# Then, apply the 'reduceByKey' transformation to sum the amounts for each state.\n",
        "# The lambda function 'lambda amt1, amt2: float(amt1) + float(amt2)' takes two amounts (amt1 and amt2) for the same key (State), converts them to floats, and returns their sum.\n",
        "# This is done to calculate the total service amount for each unique state, aggregating the amounts for all records belonging to that state.\n",
        "rekey = pairs.filter(lambda pair: pair[0] != 'State').reduceByKey(lambda amt1, amt2: float(amt1) + float(amt2))"
      ],
      "execution_count": 29,
      "outputs": []
    },
    {
      "cell_type": "code",
      "metadata": {
        "colab": {
          "base_uri": "https://localhost:8080/"
        },
        "id": "1b916806",
        "outputId": "7cdfde7a-56ab-4634-8909-5945d9961212"
      },
      "source": [
        "# Perform the 'collect()' action on the 'rekey' RDD.\n",
        "# The collect() action brings all the aggregated results (the total amount per state) from the distributed workers to the driver program.\n",
        "# This is done to display the final output of the aggregation, showing the sum of service amounts for each state.\n",
        "rekey.collect()"
      ],
      "execution_count": 30,
      "outputs": [
        {
          "output_type": "execute_result",
          "data": {
            "text/plain": [
              "[('NY', 280.25), ('CA', 270.5), ('TX', 450.75)]"
            ]
          },
          "metadata": {},
          "execution_count": 30
        }
      ]
    },
    {
      "cell_type": "code",
      "metadata": {
        "colab": {
          "base_uri": "https://localhost:8080/"
        },
        "id": "55463b29",
        "outputId": "09af74f9-3518-454a-bed5-f5c06b60010f"
      },
      "source": [
        "# Perform the 'collect()' action on the 'clean' RDD again.\n",
        "# The collect() action brings all the elements of the RDD (the cleaned and split data) to the driver program.\n",
        "# This is done to re-examine the data structure after cleaning and splitting, potentially for review, comparison, or before performing further operations. It confirms the state of the RDD at this point.\n",
        "clean.collect()"
      ],
      "execution_count": 31,
      "outputs": [
        {
          "output_type": "execute_result",
          "data": {
            "text/plain": [
              "[['EventId', 'Timestamp', 'Customer', 'State', 'ServiceID', 'Amount'],\n",
              " ['201', '10/13/2017', '100', 'NY', '131', '100.00'],\n",
              " ['202', '10/14/2017', '101', 'CA', '132', '150.50'],\n",
              " ['203', '10/15/2017', '102', 'TX', '133', '200.75'],\n",
              " ['204', '10/16/2017', '103', 'CA', '134', '120.00'],\n",
              " ['205', '10/17/2017', '104', 'NY', '135', '180.25'],\n",
              " ['206', '10/18/2017', '105', 'TX', '136', '250.00']]"
            ]
          },
          "metadata": {},
          "execution_count": 31
        }
      ]
    },
    {
      "cell_type": "code",
      "metadata": {
        "colab": {
          "base_uri": "https://localhost:8080/"
        },
        "id": "81d40a53",
        "outputId": "15363dec-6bda-4af5-c46e-d0e45451d9dd"
      },
      "source": [
        "# Grab (State, Amount) pairs from the cleaned data.\n",
        "# We are doing this to isolate the state and the corresponding service amount for aggregation.\n",
        "step1 = clean.map(lambda lst: (lst[3], lst[-1]))\n",
        "\n",
        "# Reduce by Key (State) and sum the amounts.\n",
        "# We are doing this to aggregate the total amount for each state.\n",
        "# The lambda function converts the amounts to float before summing them to ensure correct numerical addition.\n",
        "step2 = step1.reduceByKey(lambda amt1, amt2: float(amt1) + float(amt2))\n",
        "\n",
        "# Get rid of the header row which was also treated as a key-value pair in the previous step.\n",
        "# We are doing this because ('State', 'Amount') is not an actual data point we want to include in the final result.\n",
        "step3 = step2.filter(lambda x: not x[0] == 'State')\n",
        "\n",
        "# Sort Results by Amount in descending order.\n",
        "# We are doing this to easily see which states have the highest total service amounts, ordering the results from largest to smallest amount.\n",
        "step4 = step3.sortBy(lambda stAmount: stAmount[1], ascending=False)\n",
        "\n",
        "# Action: Collect the results to display them.\n",
        "# We are doing this to bring the distributed RDD data (the sorted total amounts per state) back to the driver program for viewing and inspection.\n",
        "step4.collect()"
      ],
      "execution_count": 32,
      "outputs": [
        {
          "output_type": "execute_result",
          "data": {
            "text/plain": [
              "[('TX', 450.75), ('NY', 280.25), ('CA', 270.5)]"
            ]
          },
          "metadata": {},
          "execution_count": 32
        }
      ]
    },
    {
      "cell_type": "code",
      "metadata": {
        "id": "74a87c8f"
      },
      "source": [
        "# Define a Python list named 'x'.\n",
        "# This list contains three string elements and is used to demonstrate accessing elements by index.\n",
        "x = ['ID', 'State', 'Amount']"
      ],
      "execution_count": 33,
      "outputs": []
    },
    {
      "cell_type": "code",
      "metadata": {
        "id": "170f708f"
      },
      "source": [
        "# Define a function named 'func1' that takes one argument, 'lst', which is expected to be a list.\n",
        "# This function returns the last element of the input list using negative indexing (lst[-1]).\n",
        "# This demonstrates a simple way to access the last element of a list in Python.\n",
        "def func1(lst):\n",
        "    return lst[-1]"
      ],
      "execution_count": 34,
      "outputs": []
    },
    {
      "cell_type": "code",
      "metadata": {
        "id": "33ce4468"
      },
      "source": [
        "# Define a function named 'func2' that takes one argument, 'id_st_amt'.\n",
        "# This function is intended to demonstrate unpacking a tuple or list into separate variables (Id, st, amt).\n",
        "# It then returns the third element (at index 2 after unpacking, or directly at index 2 if treated as a list/tuple) which is assigned to the variable 'amt'.\n",
        "# This highlights how to access elements after unpacking or by direct indexing.\n",
        "def func2(id_st_amt):\n",
        "    # Unpack Values (though calling with a list like 'x' will treat it as a single iterable for unpacking)\n",
        "    (Id, st, amt) = id_st_amt\n",
        "    return amt"
      ],
      "execution_count": 35,
      "outputs": []
    },
    {
      "cell_type": "code",
      "metadata": {
        "colab": {
          "base_uri": "https://localhost:8080/",
          "height": 35
        },
        "id": "cc1a5016",
        "outputId": "ddba621a-758e-450b-90a7-1aa686eb2dd2"
      },
      "source": [
        "# Call the 'func1' function with the list 'x'.\n",
        "# This demonstrates how to use the 'func1' function and shows that it correctly returns the last element of the list 'x'.\n",
        "# The output will be the string 'Amount'.\n",
        "func1(x)"
      ],
      "execution_count": 36,
      "outputs": [
        {
          "output_type": "execute_result",
          "data": {
            "text/plain": [
              "'Amount'"
            ],
            "application/vnd.google.colaboratory.intrinsic+json": {
              "type": "string"
            }
          },
          "metadata": {},
          "execution_count": 36
        }
      ]
    },
    {
      "cell_type": "code",
      "metadata": {
        "colab": {
          "base_uri": "https://localhost:8080/",
          "height": 35
        },
        "id": "37d59059",
        "outputId": "cacdf159-47cc-4c14-e49e-ae774076bf6f"
      },
      "source": [
        "# Call the 'func2' function with the list 'x'.\n",
        "# While 'func2' is designed to unpack a tuple, passing a list like 'x' works because lists are iterable.\n",
        "# The function will attempt to unpack 'x' into three variables (Id, st, amt) and then return the value of 'amt'.\n",
        "# This demonstrates the function's usage and how it handles the input, highlighting that Python's unpacking can work with different iterable types like lists, provided the number of elements matches.\n",
        "# The output will be the string 'Amount'.\n",
        "func2(x)"
      ],
      "execution_count": 37,
      "outputs": [
        {
          "output_type": "execute_result",
          "data": {
            "text/plain": [
              "'Amount'"
            ],
            "application/vnd.google.colaboratory.intrinsic+json": {
              "type": "string"
            }
          },
          "metadata": {},
          "execution_count": 37
        }
      ]
    }
  ]
}
